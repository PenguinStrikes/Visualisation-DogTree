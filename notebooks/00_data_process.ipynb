{
 "cells": [
  {
   "cell_type": "code",
   "execution_count": 258,
   "metadata": {
    "collapsed": true
   },
   "outputs": [],
   "source": [
    "import numpy as np\n",
    "import re\n",
    "import pandas as pd\n",
    "\n",
    "with open('../data/raw/dogs.txt', 'r') as myfile:\n",
    "    data=myfile.read().replace('\\n', '')"
   ]
  },
  {
   "cell_type": "code",
   "execution_count": 259,
   "metadata": {
    "collapsed": true
   },
   "outputs": [],
   "source": [
    "data_new = data\n",
    "\n",
    "for i in range(1,101):\n",
    "    fnd = str(':')+str(i)+str('.0')\n",
    "    data_new = data_new.replace(fnd,'')"
   ]
  },
  {
   "cell_type": "code",
   "execution_count": 260,
   "metadata": {
    "collapsed": false
   },
   "outputs": [],
   "source": [
    "TO_FIND = [\n",
    "'TYo',  # Yorkshire Terrier\n",
    "'Gry',  # Greyhound\n",
    "'EBD',  # Bulldog\n",
    "'GRe',  # Golden Retriever\n",
    "'CoS',  # Cocker Spaniel\n",
    "'Rtw',  # Rottweiler\n",
    "'IrW',  # Irish Wolfhound\n",
    "'BoC',  # Border Collie\n",
    "'StP',  # Standard Poodle\n",
    "'BoT',  # Border Terrier\n",
    "'Elk',  # Norwegian Elkhound\n",
    "'BrS',  # Brittany \n",
    "'NSD',  # Nova Scotia Retriever\n",
    "'Bgl',  # Beagle\n",
    "'Dac',  # Dachshund\n",
    "'ShP',  # Shar-pei\n",
    "'NfD',  # Newfoundland    \n",
    "'NFd',  # Newfoundland\n",
    "'BeT',  # Belgian Tervuren\n",
    "'Sci',  # Schipperke\n",
    "'ESt',  # English Setter\n",
    "'GoS',  # Gordon Setter\n",
    "'Dob',  # Doberman\n",
    "'GSl',  # Greenland sledge dog    \n",
    "'Eur',  # Eurasier\n",
    "'Wei',  # Weimaraner\n",
    "'FSp']  # Finnish Spitz\n",
    "    \n",
    "TO_INSERT = ['YORK','GREY','BULD','GOLD','ECKR','ROTT','IWOF',\n",
    "             'BORD','SPOO','BORT','NELK','BRIT','NSDT','BEAG',\n",
    "             'DACH','SHAR','NEWF','NEWF','TURV','SKIP','ESET',\n",
    "             'GORD','DOBP','GREE','EURA','WEIM','FINS']\n",
    "\n",
    "for fnd, ins in zip(TO_FIND, TO_INSERT):\n",
    "    myreg = r\"(\"+re.escape(fnd)+\".{2})\"\n",
    "    a = re.findall(myreg,data_new)\n",
    "    ins = ins + '_'\n",
    "    for i in a:\n",
    "        data_new = data_new.replace(i,ins)  \n",
    "    \n",
    "data_new = data_new.replace('LRe','LAB')\n",
    "data_new = data_new.replace('GSh','GSD')\n",
    "data_new = data_new.replace('GSET','GORD') "
   ]
  },
  {
   "cell_type": "code",
   "execution_count": 261,
   "metadata": {
    "collapsed": false
   },
   "outputs": [
    {
     "name": "stdout",
     "output_type": "stream",
     "text": [
      "396\n",
      "220\n",
      "156\n",
      "127\n",
      "104\n",
      "78\n",
      "42\n",
      "24\n",
      "4\n",
      "1\n"
     ]
    }
   ],
   "source": [
    "for b in range(0,10):\n",
    "    a = re.findall(r'\\((.{21})\\)',data_new)\n",
    "\n",
    "    counter = 0\n",
    "    for i in a:\n",
    "        j = i.replace('(','')\n",
    "        j = j.replace(')','')\n",
    "        if len(j) == 21:\n",
    "            if j[:4] == j[-10:-6]:\n",
    "                newi = '('+i+')'\n",
    "                data_new = data_new.replace(newi,j[:10])\n",
    "                counter = counter + 1\n",
    "\n",
    "    print(counter)"
   ]
  },
  {
   "cell_type": "code",
   "execution_count": 262,
   "metadata": {
    "collapsed": true
   },
   "outputs": [],
   "source": [
    "a = re.findall(r'(_.{6})',data_new)\n",
    "\n",
    "for i in a:\n",
    "    j = i.replace(')','')\n",
    "    j = j.replace(',','')\n",
    "    data_new = data_new.replace(j,'')\n",
    "    \n",
    "a = re.findall(r'(_.{4})',data_new)\n",
    "for i in a:\n",
    "    j = i.replace(')','')\n",
    "    j = j.replace(',','')\n",
    "    data_new = data_new.replace(j,'')"
   ]
  },
  {
   "cell_type": "code",
   "execution_count": 263,
   "metadata": {
    "collapsed": false
   },
   "outputs": [],
   "source": [
    "df = pd.read_csv('../data/raw/dogmap.csv')\n",
    "for i, row in df.iterrows():\n",
    "    fnd = row['Abbrev']\n",
    "    rpl = row['Breed']\n",
    "    data_new = data_new.replace(fnd,rpl)"
   ]
  },
  {
   "cell_type": "code",
   "execution_count": 264,
   "metadata": {
    "collapsed": true
   },
   "outputs": [],
   "source": [
    "text_file = open(\"../data/processed/data.txt\", \"w\")\n",
    "text_file.write(data_new)\n",
    "text_file.close()"
   ]
  },
  {
   "cell_type": "code",
   "execution_count": null,
   "metadata": {
    "collapsed": true
   },
   "outputs": [],
   "source": []
  }
 ],
 "metadata": {
  "kernelspec": {
   "display_name": "Python 3",
   "language": "python",
   "name": "python3"
  },
  "language_info": {
   "codemirror_mode": {
    "name": "ipython",
    "version": 3
   },
   "file_extension": ".py",
   "mimetype": "text/x-python",
   "name": "python",
   "nbconvert_exporter": "python",
   "pygments_lexer": "ipython3",
   "version": "3.6.0"
  }
 },
 "nbformat": 4,
 "nbformat_minor": 2
}
